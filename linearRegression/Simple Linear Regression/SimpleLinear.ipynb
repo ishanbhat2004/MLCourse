{
 "cells": [
  {
   "cell_type": "code",
   "execution_count": 1,
   "id": "24383d25-5a35-40e1-a252-86af7077a6e8",
   "metadata": {},
   "outputs": [],
   "source": [
    "import pandas as pd\n",
    "import numpy as np\n",
    "import matplotlib.pyplot as plt\n",
    "%matplotlib inline\n",
    "import seaborn as sns"
   ]
  },
  {
   "cell_type": "code",
   "execution_count": 2,
   "id": "62d6dbe0-b413-4a2b-ae86-2238185b68f9",
   "metadata": {},
   "outputs": [],
   "source": [
    "df = pd.read_csv(\"height-weight.csv\")"
   ]
  },
  {
   "cell_type": "code",
   "execution_count": 15,
   "id": "e950df9f-4984-48b6-85bd-572c17622499",
   "metadata": {},
   "outputs": [
    {
     "name": "stdout",
     "output_type": "stream",
     "text": [
      "Axes(0.106306,0.116556;0.863694x0.853444)\n"
     ]
    }
   ],
   "source": [
    "# g  =sns.displot(data=df['Height'], kde=True)\n",
    "print(g.ax)"
   ]
  },
  {
   "cell_type": "code",
   "execution_count": 3,
   "id": "b4bcc0b5-a156-4efc-8459-f1b0cde5355c",
   "metadata": {},
   "outputs": [
    {
     "data": {
      "image/png": "[encoded data removed]",
      "text/plain": [
       "<Figure size 1200x1000 with 2 Axes>"
      ]
     },
     "metadata": {},
     "output_type": "display_data"
    }
   ],
   "source": [
    "plt.figure(figsize=(12, 10))  # Change the size as needed\n",
    "sns.heatmap(df.corr(), annot=True, cmap='coolwarm', fmt=\".2f\", annot_kws={\"size\": 10})\n",
    "\n",
    "plt.title('Heatmap')\n",
    "plt.show()\n"
   ]
  },
  {
   "cell_type": "code",
   "execution_count": null,
   "id": "583b9218-788b-4cb6-bd07-92239d35f89c",
   "metadata": {},
   "outputs": [],
   "source": [
    "df.head(5)\n",
    "df.columns"
   ]
  },
  {
   "cell_type": "code",
   "execution_count": null,
   "id": "22ed3c31-be87-46b1-92e4-2c8c10ab6490",
   "metadata": {},
   "outputs": [],
   "source": [
    "## Scatterplot\n",
    "plt.scatter(df['Weight'], df['Height'])\n",
    "plt.xlabel('Weight')\n",
    "plt.ylabel('Height')\n",
    "plt.title('Weight vs Height')"
   ]
  },
  {
   "cell_type": "code",
   "execution_count": null,
   "id": "c089ab01-1c8f-4626-831e-9dc845c8a34d",
   "metadata": {},
   "outputs": [],
   "source": [
    "## Finding the correlation between the features \n",
    "df.corr()"
   ]
  },
  {
   "cell_type": "code",
   "execution_count": null,
   "id": "1705e7b0-b536-4899-ab37-54963559f675",
   "metadata": {},
   "outputs": [],
   "source": [
    "## More visualization \n",
    "import seaborn as sns\n",
    "\n",
    "sns.pairplot(df)"
   ]
  },
  {
   "cell_type": "code",
   "execution_count": null,
   "id": "a45bd579-a017-44b7-8a80-2d701ebe8e10",
   "metadata": {},
   "outputs": [],
   "source": [
    "# Seeing this, we get the feeling that simple linear regression will work very well here\n",
    "\n",
    "X=df[['Weight']] ### Independent feature should be a dataframe or 2d array as algo expects it\n",
    "y=df['Height'] ### This can be a series or 1d array \n"
   ]
  },
  {
   "cell_type": "code",
   "execution_count": null,
   "id": "0614121d-9690-434b-8db0-c76ad54fb228",
   "metadata": {},
   "outputs": [],
   "source": [
    "### Train Test Split\n",
    "from sklearn.model_selection import train_test_split\n",
    "\n",
    "X_train, X_test, y_train, y_test = train_test_split(X, y, test_size=0.25, random_state=42)"
   ]
  },
  {
   "cell_type": "code",
   "execution_count": null,
   "id": "cab86b8d-e8f5-43e7-89f9-ee3357fd7067",
   "metadata": {},
   "outputs": [],
   "source": [
    "## Standardize the dataset\n",
    "from sklearn.preprocessing import StandardScaler\n",
    "scaler=StandardScaler().fit(X_train)\n",
    "X_train=scaler.transform(X_train)\n",
    "X_test=scaler.transform(X_test)\n",
    "print(scaler.transform([[72]]))"
   ]
  },
  {
   "cell_type": "code",
   "execution_count": null,
   "id": "30c64972-a3f7-4559-ad93-7fbeee37ad51",
   "metadata": {},
   "outputs": [],
   "source": [
    "plt.scatter(X_train,y_train)\n",
    "print(scaler.transform([[72]]))"
   ]
  },
  {
   "cell_type": "code",
   "execution_count": null,
   "id": "7920b8ee-36ad-4180-8f22-0eb1739e60f1",
   "metadata": {},
   "outputs": [],
   "source": [
    "## Apply Simple linear regression\n",
    "\n",
    "from sklearn.linear_model import LinearRegression\n",
    "\n",
    "regression = LinearRegression()\n"
   ]
  },
  {
   "cell_type": "code",
   "execution_count": null,
   "id": "3aab0e56-3c51-4ab9-b68d-b5113149238b",
   "metadata": {},
   "outputs": [],
   "source": [
    "regression.fit(X_train, y_train)"
   ]
  },
  {
   "cell_type": "code",
   "execution_count": null,
   "id": "d028c4ca-9fa5-4198-a274-222ef20b2641",
   "metadata": {},
   "outputs": [],
   "source": [
    "print(\"Coefficient/Slope is: \", regression.coef_) # One unit movement in weight leads to approx 18 units of change in height \n",
    "print(\"Intercept is: \", regression.intercept_)"
   ]
  },
  {
   "cell_type": "code",
   "execution_count": null,
   "id": "396127e8-b949-4942-9f14-2d3be46c9621",
   "metadata": {},
   "outputs": [],
   "source": [
    "## Plot best fit line\n",
    "plt.scatter(X_train, y_train)\n",
    "plt.plot(X_train, regression.predict(X_train))"
   ]
  },
  {
   "cell_type": "code",
   "execution_count": null,
   "id": "8c62c1fb-d111-4203-95ec-07d9399d21ad",
   "metadata": {},
   "outputs": [],
   "source": [
    "## prediction for test data \n",
    "y_pred = regression.predict(X_test)"
   ]
  },
  {
   "cell_type": "code",
   "execution_count": null,
   "id": "2a95ba30-38d1-4104-8b4f-77d7ff3f1fce",
   "metadata": {},
   "outputs": [],
   "source": [
    "## Performance metrics \n",
    "from sklearn.metrics import mean_absolute_error, mean_squared_error"
   ]
  },
  {
   "cell_type": "code",
   "execution_count": null,
   "id": "f18c1107-5335-4d17-bc46-a968b2af99ec",
   "metadata": {},
   "outputs": [],
   "source": [
    "mae = mean_absolute_error(y_test, y_pred)\n",
    "mse = mean_squared_error(y_test, y_pred)\n",
    "rmse = np.sqrt(mse)\n",
    "print(mae, mse, rmse)"
   ]
  },
  {
   "cell_type": "code",
   "execution_count": null,
   "id": "b96b6196-4042-43eb-a6c4-c4eaf5c0aca4",
   "metadata": {},
   "outputs": [],
   "source": [
    "### R-squared \n",
    "from sklearn.metrics import r2_score\n",
    "\n",
    "score = r2_score(y_test, y_pred)\n",
    "print(score)"
   ]
  },
  {
   "cell_type": "code",
   "execution_count": null,
   "id": "7d1f4d46-30ce-45e5-bff5-021f421908d9",
   "metadata": {},
   "outputs": [],
   "source": [
    "### Adjusted R-squared\n",
    "print(1 - (1 - score) * (len(y_test)-1)/ (len(y_test)-X_test.shape[1]-1))"
   ]
  },
  {
   "cell_type": "code",
   "execution_count": null,
   "id": "c45f27ed-7aab-488b-b89e-17093d7d5a9d",
   "metadata": {},
   "outputs": [],
   "source": [
    "### Using OLS method \n",
    "import statsmodels.api as sm\n",
    "model = sm.OLS(y_train, X_train).fit()\n"
   ]
  },
  {
   "cell_type": "code",
   "execution_count": null,
   "id": "dea9da7e-7065-449d-b70a-741d67c8e629",
   "metadata": {},
   "outputs": [],
   "source": [
    "print(model.predict(X_test))"
   ]
  },
  {
   "cell_type": "code",
   "execution_count": null,
   "id": "e975d87f-be21-45b9-846e-14e232abead4",
   "metadata": {},
   "outputs": [],
   "source": [
    "print(model.summary())"
   ]
  },
  {
   "cell_type": "code",
   "execution_count": null,
   "id": "610c9fd7-ca70-4ac3-b08b-f1f7afa0c968",
   "metadata": {},
   "outputs": [],
   "source": [
    "### Prediction for new data\n",
    "print(scaler.transform([[72]]))"
   ]
  },
  {
   "cell_type": "code",
   "execution_count": null,
   "id": "51dae636-9c4e-476e-bfc2-cb8def78259c",
   "metadata": {},
   "outputs": [],
   "source": [
    "regression.predict((scaler.transform([[72]])))"
   ]
  },
  {
   "cell_type": "code",
   "execution_count": null,
   "id": "a5eaa49b-15c6-407d-8134-8d6d96e60751",
   "metadata": {},
   "outputs": [],
   "source": [
    "#### Assumption for a linear regression model \n",
    "# 1) Plot a scatter plot bw y_test and y_pred_test for the prediction - should be linearly distributed\n",
    "# 2) Residuals (y_test - y_pred_test) should follow an approximate normal distribution\n",
    "# 3) scatter plots between residuals and prediction should be scattered non-uniformly  "
   ]
  }
 ],
 "metadata": {
  "kernelspec": {
   "display_name": "Python 3 (ipykernel)",
   "language": "python",
   "name": "python3"
  },
  "language_info": {
   "codemirror_mode": {
    "name": "ipython",
    "version": 3
   },
   "file_extension": ".py",
   "mimetype": "text/x-python",
   "name": "python",
   "nbconvert_exporter": "python",
   "pygments_lexer": "ipython3",
   "version": "3.11.5"
  }
 },
 "nbformat": 4,
 "nbformat_minor": 5
}
